{
 "cells": [
  {
   "cell_type": "code",
   "execution_count": null,
   "metadata": {
    "collapsed": true
   },
   "outputs": [],
   "source": [
    "import pandas as pd\n",
    "import os\n",
    "from datetime import datetime\n",
    "import time\n",
    "import shutil\n",
    "import sqlalchemy\n",
    "from sqlalchemy import create_engine\n",
    "from scrapy.crawler import CrawlerProcess\n",
    "from scrapy.utils.project import get_project_settings\n"
   ]
  },
  {
   "cell_type": "code",
   "execution_count": null,
   "metadata": {
    "collapsed": true
   },
   "outputs": [],
   "source": [
    "# Configuration\n",
    "os.environ['DATA_DIR'] = '/Users/luca_pozzi/Documents/GitHub/TheReadingMachine/data'\n",
    "os.environ['SCRAPY_CONFIG_DIR'] = '~/Documents/GitHub/TheReadingMachine/pipeline/article_scraper'\n",
    "\n",
    "data_dir = os.environ['DATA_DIR']\n",
    "cfg_dir = os.environ['SCRAPY_CONFIG_DIR']\n",
    "cfg_file = cfg_dir + '/scrapy.cfg'\n",
    "local_directory = os.getcwd()\n",
    "\n",
    "target_data_table = 'RawArticle'\n",
    "engine = create_engine('sqlite:///{0}/the_reading_machine.db'.format(data_dir))"
   ]
  },
  {
   "cell_type": "code",
   "execution_count": null,
   "metadata": {
    "collapsed": true
   },
   "outputs": [],
   "source": [
    "spiders = ['euractiv', 'noggers', 'worldgrain', 'agrimoney']\n",
    "\n",
    "\n",
    "flattened_article_df = pd.DataFrame()\n",
    "for spider in spiders:\n",
    "  json_file = data_dir + '/blog_articles_{0}_{1}.jsonl'.format(time.strftime(\"%d_%m_%Y\"), spider)\n",
    "  if os.path.isfile(json_file):\n",
    "      flattened_article_df = flattened_article_df.append(pd.read_json(json_file, lines=True), ignore_index=True)\n",
    "flattened_article_df.date = flattened_article_df.date.apply(lambda d: datetime.strptime(str(d), '%Y-%m-%d %H:%M:%S'))\n",
    "\n",
    "# Save output file\n",
    "field_type = {'source': sqlalchemy.types.Unicode(length=255),\n",
    "              'title': sqlalchemy.types.Unicode(length=255),\n",
    "              'date': sqlalchemy.types.Date,\n",
    "              'link': sqlalchemy.types.Unicode(length=255),\n",
    "              'article': sqlalchemy.types.UnicodeText\n",
    "              }\n",
    "\n",
    "flattened_article_df.to_sql(con=engine, name=target_data_table, index=False,\n",
    "                            if_exists='replace',\n",
    "                            dtype=field_type)\n"
   ]
  }
 ],
 "metadata": {
  "kernelspec": {
   "display_name": "Python [Root]",
   "language": "python",
   "name": "Python [Root]"
  },
  "language_info": {
   "codemirror_mode": {
    "name": "ipython",
    "version": 2
   },
   "file_extension": ".py",
   "mimetype": "text/x-python",
   "name": "python",
   "nbconvert_exporter": "python",
   "pygments_lexer": "ipython2",
   "version": "2.7.13"
  }
 },
 "nbformat": 4,
 "nbformat_minor": 2
}
